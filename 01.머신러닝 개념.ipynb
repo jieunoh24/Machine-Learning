{
 "cells": [
  {
   "cell_type": "markdown",
   "id": "96cce840",
   "metadata": {},
   "source": [
    "## 1. 머신러닝 개념\n",
    "---\n",
    "1. 머신러닝 정의       \n",
    "input 변수 x와 output 변수 y가 주어지고, 그 관계를 나타내는 Target function: f()를 찾는 일련의 과정\n",
    "2. 머신러닝의 구성요소            \n",
    "1) Representation                    \n",
    "지식을 표현하는 방법에 대한 요소. 예를 들어서, 선형회귀모형, 의사결정나무, 연관규칙, 서포트 벡터 머신 등의 방법이 이에 속한다고 할 수 있음.                  \n",
    "2) Evaluation            \n",
    "Representation 단계에서 사용된 방법에 대하여 평가를 하는 요소. 예를 들어서, Accuracy, Squared Error, Likeliwood, Cost 등이 속한다고 할 수 있음.                    \n",
    "3) Optimization                 \n",
    "Evaluation 단계에서 얻은 결과를 바탕으로 Representation 단계에서 사용된 방법을 최적화 하는 요소. 예를 들어서, combinatorial optimization, convex optimization, constrained optimization 등이 속한다고 할 수 있음.                 "
   ]
  },
  {
   "cell_type": "markdown",
   "id": "fa2f762c",
   "metadata": {},
   "source": [
    "## 머신러닝 vs 데이터마이닝\n",
    "---\n",
    "데이터 마이닝은 가지고 있는 데이터에서 현상 및 특성을 발견하는 것이 목적인 반면, 머신러닝은 거기에서 그치지 않고, 기존 데이터를 통해 학습을 시킨 후 새로운 데이터에 대한 예측값을 알아내는 데 목적이 있음.\n"
   ]
  }
 ],
 "metadata": {
  "kernelspec": {
   "display_name": "Python 3",
   "language": "python",
   "name": "python3"
  },
  "language_info": {
   "codemirror_mode": {
    "name": "ipython",
    "version": 3
   },
   "file_extension": ".py",
   "mimetype": "text/x-python",
   "name": "python",
   "nbconvert_exporter": "python",
   "pygments_lexer": "ipython3",
   "version": "3.8.8"
  }
 },
 "nbformat": 4,
 "nbformat_minor": 5
}
